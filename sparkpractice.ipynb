{
 "cells": [
  {
   "cell_type": "code",
   "execution_count": 1,
   "id": "3c53c2c1-cf2b-4c96-b767-1fa4028a7c48",
   "metadata": {},
   "outputs": [],
   "source": [
    "#command1\n",
    "#To run pyspark in jupyter notebook, you need to install three major installation: anaconda for jupyter notebook, java JDK for spark having compatible version to your apache spark \n",
    "#Third one apachr spark choosing its bin directory \n",
    "#winutils exe for hadoop setting in notebook with compatible version"
   ]
  },
  {
   "cell_type": "code",
   "execution_count": 2,
   "id": "38f72149-3da1-4f00-87f8-688b8f53e486",
   "metadata": {},
   "outputs": [],
   "source": [
    "#command2: Environmental setup\n",
    "#set up the JDK in environment variable as 'JAVA_HOME', apache saprk as 'SPARK_HOME', hadoop env as 'HADOOP_HOME' and set their path as of their own directory from your file folder\n"
   ]
  },
  {
   "cell_type": "code",
   "execution_count": 3,
   "id": "b2217c71-8a8f-4e6d-a885-e1731ae49a25",
   "metadata": {},
   "outputs": [],
   "source": [
    "#command 3\n",
    "#From anaoconda , launch jupyter notebook\n",
    "#intsall required packages as:\n",
    "import findspark\n",
    "findspark.init()\n",
    "findspark.find()\n",
    "import pyspark"
   ]
  },
  {
   "cell_type": "code",
   "execution_count": 4,
   "id": "62590150-5706-4ed6-996f-1a1b79034498",
   "metadata": {},
   "outputs": [],
   "source": [
    "#command 4\n",
    "from pyspark import SparkContext, SparkConf\n",
    "\n",
    "from pyspark.sql import SparkSession"
   ]
  },
  {
   "cell_type": "code",
   "execution_count": null,
   "id": "bcd4c033-a84a-4508-a391-bee98d713bf2",
   "metadata": {},
   "outputs": [],
   "source": [
    "#command 5\n",
    "#craete spark session as :\n",
    "sc=SparkContext.getorecreate()\n",
    "spark=SparkSession.builder\\\n",
    ".appName(\"Python Spark DataFrames basic example\") \\\n",
    "    .config(\"spark.some.config.option\", \"some-value\") \\\n",
    "    .getOrCreate()"
   ]
  },
  {
   "cell_type": "code",
   "execution_count": null,
   "id": "663b4405-27c0-4be8-a6e8-e0ac1006dac2",
   "metadata": {},
   "outputs": [],
   "source": [
    "#command 6: loading data to pyspark\n",
    "df1 = spark.read.csv(\"dataset1.csv\", header=True)\n",
    "df2 = spark.read.csv(\"dataset2.csv\", header=True)\n"
   ]
  },
  {
   "cell_type": "code",
   "execution_count": 5,
   "id": "04479a95-1128-42d2-853f-d9e61b37df38",
   "metadata": {},
   "outputs": [],
   "source": [
    "#command 7:display df\n",
    "df1.printSchema()\n",
    "df2.printSchema()\n"
   ]
  },
  {
   "cell_type": "code",
   "execution_count": null,
   "id": "1211cffd-8e59-44a7-bd8e-9970efc1239c",
   "metadata": {},
   "outputs": [],
   "source": [
    "#command 8:create Temp table for running queries as\n",
    "df1.createOrReplaceTempView('df1')\n",
    "df2.createOrReplaceTempView('df2')"
   ]
  },
  {
   "cell_type": "code",
   "execution_count": 6,
   "id": "5726b849-156b-49ed-915a-c780cd77e3a0",
   "metadata": {},
   "outputs": [],
   "source": [
    "#command 9:add new columns to dataframe say 'year'\n",
    "#df1 = df1.withColumn('year', year(to_date('date_column','dd/MM/yyyy')))\n"
   ]
  },
  {
   "cell_type": "code",
   "execution_count": null,
   "id": "8a549a32-ec48-44cf-8604-6dce93c688e6",
   "metadata": {},
   "outputs": [],
   "source": [
    "#command 10 renaming col\n",
    "df2 = df2.withColumnRenamed('prev_col', 'new_col')"
   ]
  },
  {
   "cell_type": "code",
   "execution_count": null,
   "id": "cf46e8fd-e129-4712-8048-028dd4b6e831",
   "metadata": {},
   "outputs": [],
   "source": [
    "#command 11 dropping col\n",
    "df1 = df1.drop('col1', 'col2')"
   ]
  },
  {
   "cell_type": "code",
   "execution_count": null,
   "id": "441f5406-7781-4745-a8de-831ef7798ed4",
   "metadata": {},
   "outputs": [],
   "source": [
    "#command 12 joinning two dfs\n",
    "joined_df = df1.join(df2, 'common_col', 'inner')"
   ]
  },
  {
   "cell_type": "code",
   "execution_count": null,
   "id": "6506c52b-577a-41eb-9843-0bfa33ff8cda",
   "metadata": {},
   "outputs": [],
   "source": [
    "#command 13 filtering\n",
    "filterA=joined_df.sex=='Female'\n",
    "filterB=joined_df.day=='Mon'\n",
    "new_join=joined_df.filter(filterA).filter(filterB)\n",
    "new_join.show()"
   ]
  },
  {
   "cell_type": "code",
   "execution_count": null,
   "id": "7bcc487a-391c-4305-b114-37495a90c839",
   "metadata": {},
   "outputs": [],
   "source": [
    "#command 14 grouping by and aggregate say grp by id and aggregate the total amount in new_join table to find total\n",
    "total = new_join.groupBy('customer_id').agg(sum('transaction_amount').alias('total_amount'))\n",
    "total.show()\n"
   ]
  },
  {
   "cell_type": "code",
   "execution_count": null,
   "id": "e7c6222b-9876-4739-a68f-8e9e29af9ffc",
   "metadata": {},
   "outputs": [],
   "source": [
    "#command 15 queries\n",
    "#Add new column with value indicating whether transaction amount is > 5000 or not\n",
    "#using when and lit clause\n",
    "from pyspark.sql.functions import when, lit\n",
    "new_join = new_join.withColumn(\"high_value\", when(df1.transaction_amount > 5000, lit(\"Yes\")).otherwise(lit(\"No\")))\n"
   ]
  },
  {
   "cell_type": "code",
   "execution_count": null,
   "id": "9906b26c-a67d-4697-8021-75febc0c7790",
   "metadata": {},
   "outputs": [],
   "source": [
    "#command 16 storing df to HDFS as required\n",
    "new_join.write.mode(\"overwrite\").parquet(\"filtered_data.parquet\")\n"
   ]
  },
  {
   "cell_type": "code",
   "execution_count": null,
   "id": "f67009cb-31ab-47c2-a260-5171fcd5299c",
   "metadata": {},
   "outputs": [],
   "source": []
  },
  {
   "cell_type": "code",
   "execution_count": null,
   "id": "ea13e0da-92fd-40a4-af50-fa905391a060",
   "metadata": {},
   "outputs": [],
   "source": []
  },
  {
   "cell_type": "code",
   "execution_count": null,
   "id": "1cd23319-a1c4-4955-85b6-a7354f487872",
   "metadata": {},
   "outputs": [],
   "source": []
  },
  {
   "cell_type": "code",
   "execution_count": null,
   "id": "6edecc43-53c3-42d9-8594-b6e21472eabc",
   "metadata": {},
   "outputs": [],
   "source": []
  },
  {
   "cell_type": "code",
   "execution_count": null,
   "id": "c2cd1236-2e7d-4f74-8cc7-4a481cddcd93",
   "metadata": {},
   "outputs": [],
   "source": []
  },
  {
   "cell_type": "code",
   "execution_count": null,
   "id": "ae73933b-829f-42a5-8e31-ae50afed03ff",
   "metadata": {},
   "outputs": [],
   "source": []
  },
  {
   "cell_type": "code",
   "execution_count": null,
   "id": "c589921b-3b51-4fed-8997-0d8a9b092bc9",
   "metadata": {},
   "outputs": [],
   "source": []
  },
  {
   "cell_type": "code",
   "execution_count": null,
   "id": "1fae30a1-e0cf-4583-a80a-861a01f7acb8",
   "metadata": {},
   "outputs": [],
   "source": []
  },
  {
   "cell_type": "code",
   "execution_count": null,
   "id": "96252899-1f76-4a60-90cc-fe6c212ca4c2",
   "metadata": {},
   "outputs": [],
   "source": []
  },
  {
   "cell_type": "code",
   "execution_count": null,
   "id": "c551e9da-60a4-45f8-941b-73727ac5626a",
   "metadata": {},
   "outputs": [],
   "source": []
  },
  {
   "cell_type": "code",
   "execution_count": null,
   "id": "0efd03eb-c25a-437f-90fe-9b03e8879d86",
   "metadata": {},
   "outputs": [],
   "source": []
  },
  {
   "cell_type": "code",
   "execution_count": null,
   "id": "73b4af2d-69b7-4910-ad34-b65fe7b71f71",
   "metadata": {},
   "outputs": [],
   "source": []
  },
  {
   "cell_type": "code",
   "execution_count": null,
   "id": "e21234d3-892e-4067-93c9-900a625d9512",
   "metadata": {},
   "outputs": [],
   "source": []
  },
  {
   "cell_type": "code",
   "execution_count": null,
   "id": "9ee12639-df5b-4884-8e0d-cc03fd952da5",
   "metadata": {},
   "outputs": [],
   "source": []
  },
  {
   "cell_type": "code",
   "execution_count": null,
   "id": "7c7584d6-1a5d-4eb3-b669-72cc91892d38",
   "metadata": {},
   "outputs": [],
   "source": []
  },
  {
   "cell_type": "code",
   "execution_count": null,
   "id": "ea8175af-ace1-461c-a810-8741ff72659a",
   "metadata": {},
   "outputs": [],
   "source": []
  },
  {
   "cell_type": "code",
   "execution_count": null,
   "id": "7f9123fb-4be4-4dc5-9d33-06e7aa4d5af2",
   "metadata": {},
   "outputs": [],
   "source": []
  },
  {
   "cell_type": "code",
   "execution_count": null,
   "id": "91ed444b-f88e-49d7-bd64-4f91d74b8bb6",
   "metadata": {},
   "outputs": [],
   "source": []
  },
  {
   "cell_type": "code",
   "execution_count": null,
   "id": "2518174d-24d8-4763-9a4d-893d346dde1a",
   "metadata": {},
   "outputs": [],
   "source": []
  },
  {
   "cell_type": "code",
   "execution_count": null,
   "id": "2bf29dd8-f85e-474c-ba54-99f859634251",
   "metadata": {},
   "outputs": [],
   "source": []
  },
  {
   "cell_type": "code",
   "execution_count": null,
   "id": "9538b354-a9ff-4c0c-8252-410e445348a1",
   "metadata": {},
   "outputs": [],
   "source": []
  },
  {
   "cell_type": "code",
   "execution_count": null,
   "id": "d875f5ab-3efb-45b0-b992-af1d245a3be3",
   "metadata": {},
   "outputs": [],
   "source": [
    "\n",
    "\n",
    "\n"
   ]
  },
  {
   "cell_type": "code",
   "execution_count": null,
   "id": "88e58768-7878-464a-a209-087a5d6d3973",
   "metadata": {},
   "outputs": [],
   "source": []
  },
  {
   "cell_type": "code",
   "execution_count": null,
   "id": "da8f9eac-4d40-4856-a0a7-6ab5b7a6fa74",
   "metadata": {},
   "outputs": [],
   "source": [
    "\n",
    "\n"
   ]
  },
  {
   "cell_type": "code",
   "execution_count": null,
   "id": "9e2d8796-a58e-4f86-9a27-4406efd6a848",
   "metadata": {},
   "outputs": [],
   "source": []
  },
  {
   "cell_type": "code",
   "execution_count": null,
   "id": "7c1b167a-3e93-4292-8743-731bd60173b7",
   "metadata": {},
   "outputs": [],
   "source": []
  },
  {
   "cell_type": "code",
   "execution_count": null,
   "id": "c08f6e8c-9a15-4cd8-8dc5-54d647d17cb1",
   "metadata": {},
   "outputs": [],
   "source": []
  },
  {
   "cell_type": "code",
   "execution_count": null,
   "id": "7fc1512f-5f2a-46f3-8614-e27985e6429f",
   "metadata": {},
   "outputs": [],
   "source": []
  },
  {
   "cell_type": "code",
   "execution_count": null,
   "id": "0dafbfa0-d425-44dc-948d-58241d73daa1",
   "metadata": {},
   "outputs": [],
   "source": []
  },
  {
   "cell_type": "code",
   "execution_count": null,
   "id": "af60e0c1-b99a-4f50-b1b6-ef117188de3b",
   "metadata": {},
   "outputs": [],
   "source": [
    "\n",
    "\n"
   ]
  }
 ],
 "metadata": {
  "kernelspec": {
   "display_name": "Python 3 (ipykernel)",
   "language": "python",
   "name": "python3"
  },
  "language_info": {
   "codemirror_mode": {
    "name": "ipython",
    "version": 3
   },
   "file_extension": ".py",
   "mimetype": "text/x-python",
   "name": "python",
   "nbconvert_exporter": "python",
   "pygments_lexer": "ipython3",
   "version": "3.12.4"
  }
 },
 "nbformat": 4,
 "nbformat_minor": 5
}
